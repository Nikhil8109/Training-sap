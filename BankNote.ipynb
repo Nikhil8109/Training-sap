{
 "cells": [
  {
   "cell_type": "code",
   "execution_count": 1,
   "metadata": {},
   "outputs": [],
   "source": [
    "import pandas as pd\n",
    "import numpy as np\n",
    "import matplotlib.pyplot as plt\n",
    "import seaborn as sns\n",
    "%matplotlib inline"
   ]
  },
  {
   "cell_type": "code",
   "execution_count": 8,
   "metadata": {},
   "outputs": [],
   "source": [
    "bank = pd.read_csv(\"BankNote_Authentication.csv\")"
   ]
  },
  {
   "cell_type": "code",
   "execution_count": 9,
   "metadata": {},
   "outputs": [
    {
     "data": {
      "text/html": [
       "<div>\n",
       "<style scoped>\n",
       "    .dataframe tbody tr th:only-of-type {\n",
       "        vertical-align: middle;\n",
       "    }\n",
       "\n",
       "    .dataframe tbody tr th {\n",
       "        vertical-align: top;\n",
       "    }\n",
       "\n",
       "    .dataframe thead th {\n",
       "        text-align: right;\n",
       "    }\n",
       "</style>\n",
       "<table border=\"1\" class=\"dataframe\">\n",
       "  <thead>\n",
       "    <tr style=\"text-align: right;\">\n",
       "      <th></th>\n",
       "      <th>variance</th>\n",
       "      <th>skewness</th>\n",
       "      <th>curtosis</th>\n",
       "      <th>entropy</th>\n",
       "      <th>class</th>\n",
       "    </tr>\n",
       "  </thead>\n",
       "  <tbody>\n",
       "    <tr>\n",
       "      <th>0</th>\n",
       "      <td>3.62160</td>\n",
       "      <td>8.6661</td>\n",
       "      <td>-2.8073</td>\n",
       "      <td>-0.44699</td>\n",
       "      <td>0</td>\n",
       "    </tr>\n",
       "    <tr>\n",
       "      <th>1</th>\n",
       "      <td>4.54590</td>\n",
       "      <td>8.1674</td>\n",
       "      <td>-2.4586</td>\n",
       "      <td>-1.46210</td>\n",
       "      <td>0</td>\n",
       "    </tr>\n",
       "    <tr>\n",
       "      <th>2</th>\n",
       "      <td>3.86600</td>\n",
       "      <td>-2.6383</td>\n",
       "      <td>1.9242</td>\n",
       "      <td>0.10645</td>\n",
       "      <td>0</td>\n",
       "    </tr>\n",
       "    <tr>\n",
       "      <th>3</th>\n",
       "      <td>3.45660</td>\n",
       "      <td>9.5228</td>\n",
       "      <td>-4.0112</td>\n",
       "      <td>-3.59440</td>\n",
       "      <td>0</td>\n",
       "    </tr>\n",
       "    <tr>\n",
       "      <th>4</th>\n",
       "      <td>0.32924</td>\n",
       "      <td>-4.4552</td>\n",
       "      <td>4.5718</td>\n",
       "      <td>-0.98880</td>\n",
       "      <td>0</td>\n",
       "    </tr>\n",
       "  </tbody>\n",
       "</table>\n",
       "</div>"
      ],
      "text/plain": [
       "   variance  skewness  curtosis  entropy  class\n",
       "0   3.62160    8.6661   -2.8073 -0.44699      0\n",
       "1   4.54590    8.1674   -2.4586 -1.46210      0\n",
       "2   3.86600   -2.6383    1.9242  0.10645      0\n",
       "3   3.45660    9.5228   -4.0112 -3.59440      0\n",
       "4   0.32924   -4.4552    4.5718 -0.98880      0"
      ]
     },
     "execution_count": 9,
     "metadata": {},
     "output_type": "execute_result"
    }
   ],
   "source": [
    "bank.head()"
   ]
  },
  {
   "cell_type": "code",
   "execution_count": 10,
   "metadata": {},
   "outputs": [
    {
     "name": "stdout",
     "output_type": "stream",
     "text": [
      "<class 'pandas.core.frame.DataFrame'>\n",
      "RangeIndex: 1372 entries, 0 to 1371\n",
      "Data columns (total 5 columns):\n",
      "variance    1372 non-null float64\n",
      "skewness    1372 non-null float64\n",
      "curtosis    1372 non-null float64\n",
      "entropy     1372 non-null float64\n",
      "class       1372 non-null int64\n",
      "dtypes: float64(4), int64(1)\n",
      "memory usage: 53.7 KB\n"
     ]
    }
   ],
   "source": [
    "bank.info()"
   ]
  },
  {
   "cell_type": "code",
   "execution_count": 11,
   "metadata": {},
   "outputs": [
    {
     "data": {
      "text/plain": [
       "<bound method NDFrame.describe of       variance  skewness   curtosis   entropy  class\n",
       "0     3.621600   8.66610  -2.807300 -0.446990      0\n",
       "1     4.545900   8.16740  -2.458600 -1.462100      0\n",
       "2     3.866000  -2.63830   1.924200  0.106450      0\n",
       "3     3.456600   9.52280  -4.011200 -3.594400      0\n",
       "4     0.329240  -4.45520   4.571800 -0.988800      0\n",
       "5     4.368400   9.67180  -3.960600 -3.162500      0\n",
       "6     3.591200   3.01290   0.728880  0.564210      0\n",
       "7     2.092200  -6.81000   8.463600 -0.602160      0\n",
       "8     3.203200   5.75880  -0.753450 -0.612510      0\n",
       "9     1.535600   9.17720  -2.271800 -0.735350      0\n",
       "10    1.224700   8.77790  -2.213500 -0.806470      0\n",
       "11    3.989900  -2.70660   2.394600  0.862910      0\n",
       "12    1.899300   7.66250   0.153940 -3.110800      0\n",
       "13   -1.576800  10.84300   2.546200 -2.936200      0\n",
       "14    3.404000   8.72610  -2.991500 -0.572420      0\n",
       "15    4.676500  -3.38950   3.489600  1.477100      0\n",
       "16    2.671900   3.06460   0.371580  0.586190      0\n",
       "17    0.803550   2.84730   4.343900  0.601700      0\n",
       "18    1.447900  -4.87940   8.342800 -2.108600      0\n",
       "19    5.242300  11.02720  -4.353000 -4.101300      0\n",
       "20    5.786700   7.89020  -2.619600 -0.487080      0\n",
       "21    0.329200  -4.45520   4.571800 -0.988800      0\n",
       "22    3.936200  10.16220  -3.823500 -4.017200      0\n",
       "23    0.935840   8.88550  -1.683100 -1.659900      0\n",
       "24    4.433800   9.88700  -4.679500 -3.748300      0\n",
       "25    0.705700  -5.49810   8.336800 -2.871500      0\n",
       "26    1.143200  -3.74130   5.577700 -0.635780      0\n",
       "27   -0.382140   8.39090   2.162400 -3.740500      0\n",
       "28    6.563300   9.81870  -4.411300 -3.225800      0\n",
       "29    4.890600  -3.35840   3.420200  1.090500      0\n",
       "...        ...       ...        ...       ...    ...\n",
       "1342 -1.747900  -5.82300   5.869900  1.212000      1\n",
       "1343 -0.959230  -6.71280   4.985700  0.328860      1\n",
       "1344  1.345100   0.23589  -1.878500  1.325800      1\n",
       "1345  2.227900   4.09510  -4.803700 -2.111200      1\n",
       "1346  1.257200   4.87310  -5.286100 -5.874100      1\n",
       "1347 -5.385700   9.12140  -0.419290 -5.918100      1\n",
       "1348 -2.978600   2.34450   0.526670 -0.401730      1\n",
       "1349 -1.585100  -2.15620   1.708200  0.901700      1\n",
       "1350 -0.218880  -2.20380  -0.095400  0.564210      1\n",
       "1351  1.318300   1.90170  -3.311100  0.065071      1\n",
       "1352  1.489600   3.42880  -4.030900 -1.425900      1\n",
       "1353  0.115920   3.22190  -3.430200 -2.845700      1\n",
       "1354 -3.392400   3.35640  -0.720040 -3.523300      1\n",
       "1355 -6.163200   8.70960  -0.216210 -3.634500      1\n",
       "1356 -4.078600   2.92390   0.870260 -0.653890      1\n",
       "1357 -2.589900  -0.39110   0.934520  0.429720      1\n",
       "1358 -1.011600  -0.19038  -0.905970  0.003003      1\n",
       "1359  0.066129   2.49140  -2.940100 -0.621560      1\n",
       "1360 -0.247450   1.93680  -2.469700 -0.805180      1\n",
       "1361 -1.573200   1.06360  -0.712320 -0.838800      1\n",
       "1362 -2.166800   1.59330   0.045122 -1.678000      1\n",
       "1363 -1.166700  -1.42370   2.924100  0.661190      1\n",
       "1364 -2.839100  -6.63000  10.484900 -0.421130      1\n",
       "1365 -4.504600  -5.81260  10.886700 -0.528460      1\n",
       "1366 -2.410000   3.74330  -0.402150 -1.295300      1\n",
       "1367  0.406140   1.34920  -1.450100 -0.559490      1\n",
       "1368 -1.388700  -4.87730   6.477400  0.341790      1\n",
       "1369 -3.750300 -13.45860  17.593200 -2.777100      1\n",
       "1370 -3.563700  -8.38270  12.393000 -1.282300      1\n",
       "1371 -2.541900  -0.65804   2.684200  1.195200      1\n",
       "\n",
       "[1372 rows x 5 columns]>"
      ]
     },
     "execution_count": 11,
     "metadata": {},
     "output_type": "execute_result"
    }
   ],
   "source": [
    "bank.describe"
   ]
  },
  {
   "cell_type": "code",
   "execution_count": 12,
   "metadata": {},
   "outputs": [
    {
     "data": {
      "text/html": [
       "<div>\n",
       "<style scoped>\n",
       "    .dataframe tbody tr th:only-of-type {\n",
       "        vertical-align: middle;\n",
       "    }\n",
       "\n",
       "    .dataframe tbody tr th {\n",
       "        vertical-align: top;\n",
       "    }\n",
       "\n",
       "    .dataframe thead th {\n",
       "        text-align: right;\n",
       "    }\n",
       "</style>\n",
       "<table border=\"1\" class=\"dataframe\">\n",
       "  <thead>\n",
       "    <tr style=\"text-align: right;\">\n",
       "      <th></th>\n",
       "      <th>variance</th>\n",
       "      <th>skewness</th>\n",
       "      <th>curtosis</th>\n",
       "      <th>entropy</th>\n",
       "      <th>class</th>\n",
       "    </tr>\n",
       "  </thead>\n",
       "  <tbody>\n",
       "    <tr>\n",
       "      <th>variance</th>\n",
       "      <td>1.000000</td>\n",
       "      <td>0.264026</td>\n",
       "      <td>-0.380850</td>\n",
       "      <td>0.276817</td>\n",
       "      <td>-0.724843</td>\n",
       "    </tr>\n",
       "    <tr>\n",
       "      <th>skewness</th>\n",
       "      <td>0.264026</td>\n",
       "      <td>1.000000</td>\n",
       "      <td>-0.786895</td>\n",
       "      <td>-0.526321</td>\n",
       "      <td>-0.444688</td>\n",
       "    </tr>\n",
       "    <tr>\n",
       "      <th>curtosis</th>\n",
       "      <td>-0.380850</td>\n",
       "      <td>-0.786895</td>\n",
       "      <td>1.000000</td>\n",
       "      <td>0.318841</td>\n",
       "      <td>0.155883</td>\n",
       "    </tr>\n",
       "    <tr>\n",
       "      <th>entropy</th>\n",
       "      <td>0.276817</td>\n",
       "      <td>-0.526321</td>\n",
       "      <td>0.318841</td>\n",
       "      <td>1.000000</td>\n",
       "      <td>-0.023424</td>\n",
       "    </tr>\n",
       "    <tr>\n",
       "      <th>class</th>\n",
       "      <td>-0.724843</td>\n",
       "      <td>-0.444688</td>\n",
       "      <td>0.155883</td>\n",
       "      <td>-0.023424</td>\n",
       "      <td>1.000000</td>\n",
       "    </tr>\n",
       "  </tbody>\n",
       "</table>\n",
       "</div>"
      ],
      "text/plain": [
       "          variance  skewness  curtosis   entropy     class\n",
       "variance  1.000000  0.264026 -0.380850  0.276817 -0.724843\n",
       "skewness  0.264026  1.000000 -0.786895 -0.526321 -0.444688\n",
       "curtosis -0.380850 -0.786895  1.000000  0.318841  0.155883\n",
       "entropy   0.276817 -0.526321  0.318841  1.000000 -0.023424\n",
       "class    -0.724843 -0.444688  0.155883 -0.023424  1.000000"
      ]
     },
     "execution_count": 12,
     "metadata": {},
     "output_type": "execute_result"
    }
   ],
   "source": [
    "bank.corr()"
   ]
  },
  {
   "cell_type": "code",
   "execution_count": 13,
   "metadata": {},
   "outputs": [
    {
     "data": {
      "text/plain": [
       "<matplotlib.axes._subplots.AxesSubplot at 0x1cd2cadc550>"
      ]
     },
     "execution_count": 13,
     "metadata": {},
     "output_type": "execute_result"
    },
    {
     "data": {
      "image/png": "[encoded data removed]",
      "text/plain": [
       "<matplotlib.figure.Figure at 0x1cd2caf1da0>"
      ]
     },
     "metadata": {
      "needs_background": "light"
     },
     "output_type": "display_data"
    }
   ],
   "source": [
    "bank.boxplot()"
   ]
  },
  {
   "cell_type": "code",
   "execution_count": 14,
   "metadata": {},
   "outputs": [],
   "source": [
    "from sklearn.model_selection import train_test_split"
   ]
  },
  {
   "cell_type": "code",
   "execution_count": null,
   "metadata": {},
   "outputs": [],
   "source": []
  },
  {
   "cell_type": "code",
   "execution_count": 29,
   "metadata": {},
   "outputs": [],
   "source": [
    "cols = ['variance','skewness','curtosis','entropy']\n",
    "X = bank[cols]\n",
    "y = bank[\"class\"]\n",
    "X_train, X_test, y_train, y_test = train_test_split(X, y, test_size=0.40, random_state=42)"
   ]
  },
  {
   "cell_type": "code",
   "execution_count": 30,
   "metadata": {},
   "outputs": [
    {
     "name": "stdout",
     "output_type": "stream",
     "text": [
      "430     0\n",
      "588     0\n",
      "296     0\n",
      "184     0\n",
      "244     0\n",
      "590     0\n",
      "78      0\n",
      "708     0\n",
      "411     0\n",
      "43      0\n",
      "1033    1\n",
      "1176    1\n",
      "233     0\n",
      "893     1\n",
      "322     0\n",
      "796     1\n",
      "839     1\n",
      "1090    1\n",
      "887     1\n",
      "936     1\n",
      "67      0\n",
      "331     0\n",
      "1083    1\n",
      "551     0\n",
      "990     1\n",
      "700     0\n",
      "289     0\n",
      "771     1\n",
      "597     0\n",
      "432     0\n",
      "       ..\n",
      "649     0\n",
      "1119    1\n",
      "579     0\n",
      "227     0\n",
      "598     0\n",
      "680     0\n",
      "1131    1\n",
      "985     1\n",
      "66      0\n",
      "1133    1\n",
      "1009    1\n",
      "211     0\n",
      "983     1\n",
      "731     0\n",
      "994     1\n",
      "1222    1\n",
      "976     1\n",
      "1232    1\n",
      "1343    1\n",
      "767     1\n",
      "1237    1\n",
      "1233    1\n",
      "874     1\n",
      "1280    1\n",
      "1191    1\n",
      "273     0\n",
      "906     1\n",
      "362     0\n",
      "2       0\n",
      "6       0\n",
      "Name: class, Length: 549, dtype: int64\n"
     ]
    }
   ],
   "source": [
    "print(y_test)"
   ]
  },
  {
   "cell_type": "code",
   "execution_count": 31,
   "metadata": {},
   "outputs": [
    {
     "data": {
      "text/html": [
       "<div>\n",
       "<style scoped>\n",
       "    .dataframe tbody tr th:only-of-type {\n",
       "        vertical-align: middle;\n",
       "    }\n",
       "\n",
       "    .dataframe tbody tr th {\n",
       "        vertical-align: top;\n",
       "    }\n",
       "\n",
       "    .dataframe thead th {\n",
       "        text-align: right;\n",
       "    }\n",
       "</style>\n",
       "<table border=\"1\" class=\"dataframe\">\n",
       "  <thead>\n",
       "    <tr style=\"text-align: right;\">\n",
       "      <th></th>\n",
       "      <th>variance</th>\n",
       "      <th>skewness</th>\n",
       "      <th>curtosis</th>\n",
       "      <th>entropy</th>\n",
       "    </tr>\n",
       "  </thead>\n",
       "  <tbody>\n",
       "    <tr>\n",
       "      <th>count</th>\n",
       "      <td>823.000000</td>\n",
       "      <td>823.000000</td>\n",
       "      <td>823.000000</td>\n",
       "      <td>823.000000</td>\n",
       "    </tr>\n",
       "    <tr>\n",
       "      <th>mean</th>\n",
       "      <td>0.390257</td>\n",
       "      <td>1.837494</td>\n",
       "      <td>1.478195</td>\n",
       "      <td>-1.201028</td>\n",
       "    </tr>\n",
       "    <tr>\n",
       "      <th>std</th>\n",
       "      <td>2.830005</td>\n",
       "      <td>5.904726</td>\n",
       "      <td>4.280001</td>\n",
       "      <td>2.094911</td>\n",
       "    </tr>\n",
       "    <tr>\n",
       "      <th>min</th>\n",
       "      <td>-7.036400</td>\n",
       "      <td>-13.773100</td>\n",
       "      <td>-5.261300</td>\n",
       "      <td>-8.548200</td>\n",
       "    </tr>\n",
       "    <tr>\n",
       "      <th>25%</th>\n",
       "      <td>-1.770500</td>\n",
       "      <td>-2.082750</td>\n",
       "      <td>-1.370400</td>\n",
       "      <td>-2.375650</td>\n",
       "    </tr>\n",
       "    <tr>\n",
       "      <th>50%</th>\n",
       "      <td>0.379840</td>\n",
       "      <td>2.410700</td>\n",
       "      <td>0.661190</td>\n",
       "      <td>-0.612510</td>\n",
       "    </tr>\n",
       "    <tr>\n",
       "      <th>75%</th>\n",
       "      <td>2.767600</td>\n",
       "      <td>6.627900</td>\n",
       "      <td>3.252700</td>\n",
       "      <td>0.400630</td>\n",
       "    </tr>\n",
       "    <tr>\n",
       "      <th>max</th>\n",
       "      <td>6.824800</td>\n",
       "      <td>12.951600</td>\n",
       "      <td>17.927400</td>\n",
       "      <td>2.162500</td>\n",
       "    </tr>\n",
       "  </tbody>\n",
       "</table>\n",
       "</div>"
      ],
      "text/plain": [
       "         variance    skewness    curtosis     entropy\n",
       "count  823.000000  823.000000  823.000000  823.000000\n",
       "mean     0.390257    1.837494    1.478195   -1.201028\n",
       "std      2.830005    5.904726    4.280001    2.094911\n",
       "min     -7.036400  -13.773100   -5.261300   -8.548200\n",
       "25%     -1.770500   -2.082750   -1.370400   -2.375650\n",
       "50%      0.379840    2.410700    0.661190   -0.612510\n",
       "75%      2.767600    6.627900    3.252700    0.400630\n",
       "max      6.824800   12.951600   17.927400    2.162500"
      ]
     },
     "execution_count": 31,
     "metadata": {},
     "output_type": "execute_result"
    }
   ],
   "source": [
    "X_train.describe()"
   ]
  },
  {
   "cell_type": "code",
   "execution_count": 33,
   "metadata": {},
   "outputs": [],
   "source": [
    "from sklearn.tree import DecisionTreeClassifier\n",
    "Bclf = DecisionTreeClassifier()\n",
    "Bclf.fit(X_train,y_train);\n",
    "predictions = Bclf.predict(X_test)"
   ]
  },
  {
   "cell_type": "markdown",
   "metadata": {},
   "source": [
    "## Now Evaluating the model"
   ]
  },
  {
   "cell_type": "code",
   "execution_count": 37,
   "metadata": {},
   "outputs": [
    {
     "name": "stdout",
     "output_type": "stream",
     "text": [
      "[[301   2]\n",
      " [  8 238]]\n",
      "             precision    recall  f1-score   support\n",
      "\n",
      "          0       0.97      0.99      0.98       303\n",
      "          1       0.99      0.97      0.98       246\n",
      "\n",
      "avg / total       0.98      0.98      0.98       549\n",
      "\n"
     ]
    }
   ],
   "source": [
    "from sklearn.metrics import classification_report,confusion_matrix\n",
    "print(confusion_matrix(y_test,predictions))\n",
    "print(classification_report(y_test,predictions))"
   ]
  },
  {
   "cell_type": "code",
   "execution_count": null,
   "metadata": {},
   "outputs": [],
   "source": []
  },
  {
   "cell_type": "code",
   "execution_count": null,
   "metadata": {},
   "outputs": [],
   "source": []
  },
  {
   "cell_type": "code",
   "execution_count": null,
   "metadata": {},
   "outputs": [],
   "source": []
  }
 ],
 "metadata": {
  "kernelspec": {
   "display_name": "Python 3",
   "language": "python",
   "name": "python3"
  },
  "language_info": {
   "codemirror_mode": {
    "name": "ipython",
    "version": 3
   },
   "file_extension": ".py",
   "mimetype": "text/x-python",
   "name": "python",
   "nbconvert_exporter": "python",
   "pygments_lexer": "ipython3",
   "version": "3.6.4"
  }
 },
 "nbformat": 4,
 "nbformat_minor": 2
}